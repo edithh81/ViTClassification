{
 "cells": [
  {
   "cell_type": "code",
   "execution_count": 167,
   "id": "2a66033c",
   "metadata": {},
   "outputs": [],
   "source": [
    "import numpy as np\n",
    "import matplotlib.pyplot as plt\n",
    "import torch\n",
    "import torch.nn as nn\n",
    "import torch.optim as optim\n",
    "import torch.nn.functional as F\n",
    "import torchvision\n",
    "from torch.utils.data import DataLoader, Dataset\n",
    "from torchvision import transforms, datasets\n",
    "from PIL import Image\n",
    "import cv2\n",
    "import os"
   ]
  },
  {
   "cell_type": "markdown",
   "id": "aef6ced2",
   "metadata": {},
   "source": [
    "## Read images"
   ]
  },
  {
   "cell_type": "code",
   "execution_count": 168,
   "id": "ef8831e7",
   "metadata": {},
   "outputs": [],
   "source": [
    "ROOT = '../data/'\n",
    "\n",
    "train_dataset = datasets.MNIST(root=ROOT, train=True, download=True)\n",
    "test_dataset = datasets.MNIST(root=ROOT, train=False, download=True)\n"
   ]
  },
  {
   "cell_type": "code",
   "execution_count": 169,
   "id": "33430167",
   "metadata": {},
   "outputs": [
    {
     "data": {
      "image/png": "[encoded data removed]",
      "text/plain": [
       "<Figure size 640x480 with 5 Axes>"
      ]
     },
     "metadata": {},
     "output_type": "display_data"
    }
   ],
   "source": [
    "# Display the first 5 images with labels\n",
    "os.environ[\"KMP_DUPLICATE_LIB_OK\"] = \"TRUE\"\n",
    "for i in range(5):\n",
    "    image, label = train_dataset[i]  # PIL image and its label\n",
    "    plt.subplot(1, 5, i + 1)\n",
    "    plt.imshow(image, cmap='gray')\n",
    "    plt.title(f\"Label: {label}\")\n",
    "    plt.axis('off')\n",
    "\n",
    "plt.suptitle(\"Sample MNIST Digits from Training Set\")\n",
    "plt.show()"
   ]
  },
  {
   "cell_type": "code",
   "execution_count": 170,
   "id": "cba2c7d7",
   "metadata": {},
   "outputs": [
    {
     "data": {
      "image/jpeg": "[encoded data removed]",
      "image/png": "[encoded data removed]",
      "text/plain": [
       "<PIL.Image.Image image mode=L size=28x28>"
      ]
     },
     "execution_count": 170,
     "metadata": {},
     "output_type": "execute_result"
    }
   ],
   "source": [
    "imge, label = train_dataset[0]  # PIL image and its label\n",
    "# imge = np.array(imge)\n",
    "imge"
   ]
  },
  {
   "cell_type": "markdown",
   "id": "bf4c3f69",
   "metadata": {},
   "source": [
    "### Prepare dataset"
   ]
  },
  {
   "cell_type": "code",
   "execution_count": 184,
   "id": "b7182972",
   "metadata": {},
   "outputs": [],
   "source": [
    "### config\n",
    "BATCH_SIZE = 512\n",
    "TRAIN_RATIO = 0.8\n",
    "VAL_RATIO = 0.1\n",
    "TEST_RATIO = 0.1\n",
    "NUM_CLASSES = 2\n",
    "EPOCHS = 50\n"
   ]
  },
  {
   "cell_type": "code",
   "execution_count": 185,
   "id": "60042c16",
   "metadata": {},
   "outputs": [],
   "source": [
    "n_train = int(len(train_dataset) * TRAIN_RATIO)\n",
    "n_val = len(train_dataset) - n_train\n",
    "\n",
    "train_data, valid_data = torch.utils.data.random_split(train_dataset, [n_train, n_val])\n",
    "mean = train_data.dataset.data.float().mean() / 255.0\n",
    "std = train_data.dataset.data.float().std() / 255.0\n",
    "\n",
    "train_transform = transforms.Compose([\n",
    "    transforms.ToTensor(),\n",
    "    transforms.Normalize((mean,), (std,)),\n",
    "])\n",
    "test_transform = transforms.Compose([\n",
    "    transforms.ToTensor(),\n",
    "    transforms.Normalize((mean,), (std,)),\n",
    "])\n",
    "\n",
    "train_data.dataset.transform = train_transform\n",
    "valid_data.dataset.transform = test_transform\n"
   ]
  },
  {
   "cell_type": "code",
   "execution_count": 186,
   "id": "9f5c9d12",
   "metadata": {},
   "outputs": [
    {
     "data": {
      "text/plain": [
       "(-0.5, 27.5, 27.5, -0.5)"
      ]
     },
     "execution_count": 186,
     "metadata": {},
     "output_type": "execute_result"
    },
    {
     "data": {
      "image/png": "[encoded data removed]",
      "text/plain": [
       "<Figure size 640x480 with 1 Axes>"
      ]
     },
     "metadata": {},
     "output_type": "display_data"
    }
   ],
   "source": [
    "img, label = train_data[0]\n",
    "os.environ[\"KMP_DUPLICATE_LIB_OK\"] = \"TRUE\"\n",
    "plt.imshow(img[0], cmap='gray')\n",
    "plt.title(f\"Label: {label}\")\n",
    "plt.axis('off')"
   ]
  },
  {
   "cell_type": "code",
   "execution_count": 187,
   "id": "6bd2dcdc",
   "metadata": {},
   "outputs": [],
   "source": [
    "train_loader = DataLoader(train_data, batch_size=BATCH_SIZE, shuffle=True)\n",
    "valid_loader = DataLoader(valid_data, batch_size=BATCH_SIZE, shuffle=False)"
   ]
  },
  {
   "cell_type": "code",
   "execution_count": 188,
   "id": "0edfab92",
   "metadata": {},
   "outputs": [
    {
     "name": "stdout",
     "output_type": "stream",
     "text": [
      "tensor(0.1307) tensor(0.3081)\n"
     ]
    }
   ],
   "source": [
    "print(mean, std)"
   ]
  },
  {
   "cell_type": "code",
   "execution_count": 189,
   "id": "a13a8f37",
   "metadata": {},
   "outputs": [
    {
     "data": {
      "text/plain": [
       "torch.Size([512, 1, 28, 28])"
      ]
     },
     "execution_count": 189,
     "metadata": {},
     "output_type": "execute_result"
    }
   ],
   "source": [
    "next(iter(train_loader))[0].shape  # warm up the data loader"
   ]
  },
  {
   "cell_type": "code",
   "execution_count": 190,
   "id": "cdca40e2",
   "metadata": {},
   "outputs": [
    {
     "name": "stdout",
     "output_type": "stream",
     "text": [
      "{0, 1, 2, 3, 4, 5, 6, 7, 8, 9}\n"
     ]
    }
   ],
   "source": [
    "print(set([label for _, label in train_dataset]))"
   ]
  },
  {
   "cell_type": "markdown",
   "id": "0ff19f35",
   "metadata": {},
   "source": [
    "### Model "
   ]
  },
  {
   "cell_type": "code",
   "execution_count": 191,
   "id": "36de0e1a",
   "metadata": {},
   "outputs": [],
   "source": [
    "class TransfomerEncoder(nn.Module):\n",
    "    def __init__(self, embed_dim, num_heads, num_layers, ff_dim, dropout=0.1):\n",
    "        super(TransfomerEncoder, self).__init__()\n",
    "        self.attn = nn.MultiheadAttention(embed_dim=embed_dim, num_heads=num_heads, dropout=dropout)\n",
    "        self.ff = nn.Sequential(\n",
    "            nn.Linear(embed_dim, ff_dim, bias=True),\n",
    "            nn.ReLU(),\n",
    "            nn.Linear(ff_dim, embed_dim, bias=True)\n",
    "        )\n",
    "        self.norm1 = nn.LayerNorm(embed_dim, eps=1e-6)\n",
    "        self.norm2 = nn.LayerNorm(embed_dim, eps=1e-6)\n",
    "        self.dropout1 = nn.Dropout(dropout)\n",
    "        self.dropout2 = nn.Dropout(dropout)\n",
    "    def forward(self, x):\n",
    "        # norm_1 = self.norm1(x)\n",
    "        attn_output, _ = self.attn(x, x, x)\n",
    "        attn_output = self.dropout1(attn_output)\n",
    "        out_1 = self.norm1(x+attn_output) # skip connection\n",
    "        ffn_output = self.ff(out_1)\n",
    "        ffn_output = self.dropout2(ffn_output)\n",
    "        out_2 = self.norm2(out_1+ffn_output)\n",
    "        return out_2"
   ]
  },
  {
   "cell_type": "code",
   "execution_count": 192,
   "id": "5e9de34e",
   "metadata": {},
   "outputs": [],
   "source": [
    "class PatchPositionEmbedding(nn.Module): # add CLS token\n",
    "    def __init__(self, embed_dim, patch_size, img_size):\n",
    "        super(PatchPositionEmbedding, self).__init__()\n",
    "        self.conv1 = nn.Conv2d(in_channels=1, out_channels=embed_dim, kernel_size=patch_size, stride=patch_size, bias=False)\n",
    "        scale = 1.0 / np.sqrt(embed_dim)\n",
    "        # self.cls_token = nn.Parameter(torch.zeros(1, 1, embed_dim))\n",
    "        self.position_embedding = nn.Parameter(scale*torch.randn((img_size // patch_size) ** 2  , embed_dim))\n",
    "    def forward(self, x):\n",
    "        x = self.conv1(x) # shape: (batch_size, embed_dim, h, w)\n",
    "        x = x.reshape(x.shape[0], x.shape[1], -1) # shape: (batch_size, embed_dim, num_patches)\n",
    "        x = x.permute(0, 2, 1) # permute to (batch_size, num_patches, embed_dim)\n",
    "        # cls_embed = self.cls_token.to(x.dtype) + torch.zeros((x.shape[0], 1, x.shape[-1]), device=x.device) # shape: (batch_size, 1, embed_dim)\n",
    "        # x = torch.cat((cls_embed, x), dim=1) # shape: (batch_size, num_patches + 1, embed_dim)\n",
    "        x = x + self.position_embedding.to(x.dtype) # shape: (batch_size, num_patches + 1, embed_dim)\n",
    "        return x\n",
    "        "
   ]
  },
  {
   "cell_type": "code",
   "execution_count": 193,
   "id": "852c4f55",
   "metadata": {},
   "outputs": [],
   "source": [
    "class ViT(nn.Module):\n",
    "    def __init__(self, embed_dim, num_heads, num_layers, ff_dim, num_classes, patch_size, drop_out, img_size=224):\n",
    "        super(ViT, self).__init__()\n",
    "        self.patch_embedding = PatchPositionEmbedding(embed_dim, patch_size, img_size=img_size)\n",
    "        self.transformer_encoder = TransfomerEncoder(embed_dim, num_heads, num_layers, ff_dim, drop_out)\n",
    "        self.fc1 = nn.Linear(embed_dim, embed_dim)\n",
    "        self.fc2 = nn.Linear(embed_dim, num_classes)\n",
    "        self.dropout = nn.Dropout(drop_out)\n",
    "    def forward(self, x):\n",
    "        # take position embedding\n",
    "        output = self.patch_embedding(x)\n",
    "        output = self.transformer_encoder(output)\n",
    "        output = output.mean(dim=1) # global average pooling\n",
    "        output = self.fc1(output)\n",
    "        output = self.dropout(output)\n",
    "        output = F.relu(output)\n",
    "        output = self.dropout(output)\n",
    "        output = self.fc2(output)\n",
    "        return output\n",
    "\n",
    "        \n",
    "        "
   ]
  },
  {
   "cell_type": "code",
   "execution_count": 194,
   "id": "ea42718e",
   "metadata": {},
   "outputs": [
    {
     "name": "stdout",
     "output_type": "stream",
     "text": [
      "torch.Size([512, 1, 28, 28]) torch.Size([512])\n",
      "----------------------------------------------------------------\n",
      "        Layer (type)               Output Shape         Param #\n",
      "================================================================\n",
      "            Conv2d-1            [-1, 512, 4, 4]          25,088\n",
      "PatchPositionEmbedding-2              [-1, 16, 512]               0\n",
      "MultiheadAttention-3  [[-1, 16, 512], [-1, 2, 2]]               0\n",
      "           Dropout-4              [-1, 16, 512]               0\n",
      "         LayerNorm-5              [-1, 16, 512]           1,024\n",
      "            Linear-6             [-1, 16, 1024]         525,312\n",
      "              ReLU-7             [-1, 16, 1024]               0\n",
      "            Linear-8              [-1, 16, 512]         524,800\n",
      "           Dropout-9              [-1, 16, 512]               0\n",
      "        LayerNorm-10              [-1, 16, 512]           1,024\n",
      "TransfomerEncoder-11              [-1, 16, 512]               0\n",
      "           Linear-12                  [-1, 512]         262,656\n",
      "          Dropout-13                  [-1, 512]               0\n",
      "          Dropout-14                  [-1, 512]               0\n",
      "           Linear-15                   [-1, 10]           5,130\n",
      "================================================================\n",
      "Total params: 1,345,034\n",
      "Trainable params: 1,345,034\n",
      "Non-trainable params: 0\n",
      "----------------------------------------------------------------\n",
      "Input size (MB): 0.00\n",
      "Forward/backward pass size (MB): 0.51\n",
      "Params size (MB): 5.13\n",
      "Estimated Total Size (MB): 5.65\n",
      "----------------------------------------------------------------\n"
     ]
    }
   ],
   "source": [
    "samples = next(iter(train_loader))\n",
    "img, label = samples[0], samples[1]\n",
    "NUM_CLASSES = len(train_dataset.classes)\n",
    "print(img.shape, label.shape)\n",
    "model = ViT(embed_dim=512, num_heads=8, num_layers=4, ff_dim = 1024, num_classes=NUM_CLASSES, patch_size=7, drop_out=0.2, img_size=28)\n",
    "from torchsummary import summary\n",
    "summary(model, img.shape[1:], device='cpu')"
   ]
  },
  {
   "cell_type": "markdown",
   "id": "f76f23a1",
   "metadata": {},
   "source": [
    "## Training"
   ]
  },
  {
   "cell_type": "code",
   "execution_count": 195,
   "id": "239c3aec",
   "metadata": {},
   "outputs": [],
   "source": [
    "optimizer = optim.Adam(model.parameters(), lr=1e-4)\n",
    "criterion = nn.CrossEntropyLoss()\n",
    "\n",
    "device = torch.device(\"cuda\" if torch.cuda.is_available() else \"cpu\")\n",
    "model = model.to(device)\n",
    "def train(model, dataloader, optimizer, criterion, device):\n",
    "    model.train()\n",
    "    running_loss = 0.0\n",
    "    correct = 0\n",
    "    total = 0\n",
    "    for batch_idx, (data, target) in enumerate(dataloader):\n",
    "        data, target = data.to(device), target.to(device)\n",
    "        optimizer.zero_grad()\n",
    "        outputs = model(data)\n",
    "        loss = criterion(outputs, target)\n",
    "        loss.backward()\n",
    "        optimizer.step()\n",
    "        running_loss += loss.item()\n",
    "        _, predicted = torch.max(outputs.data, 1)\n",
    "        total += target.size(0)\n",
    "        correct += (predicted == target).sum().item()\n",
    "    return running_loss / len(dataloader), correct / total\n",
    "def evaluate(model, dataloader, optimizer, criterion, device):\n",
    "    model.eval()\n",
    "    running_loss = 0.0\n",
    "    correct = 0\n",
    "    total = 0\n",
    "    with torch.no_grad():\n",
    "        for batch_idx, (data, target) in enumerate(dataloader):\n",
    "            data, target = data.to(device), target.to(device)\n",
    "            outputs = model(data)\n",
    "            loss = criterion(outputs, target)\n",
    "            running_loss += loss.item()\n",
    "            _, predicted = torch.max(outputs.data, 1)\n",
    "            total += target.size(0)\n",
    "            correct += (predicted == target).sum().item()\n",
    "    return running_loss / len(dataloader), correct / total\n",
    "\n",
    "\n"
   ]
  },
  {
   "cell_type": "code",
   "execution_count": 196,
   "id": "49c1ccd9",
   "metadata": {},
   "outputs": [
    {
     "name": "stdout",
     "output_type": "stream",
     "text": [
      "Epoch 1/50, Train Loss: 1.7496, Train Acc: 0.4359, Val Loss: 1.2262, Val Acc: 0.6170\n",
      "Epoch 2/50, Train Loss: 1.0143, Train Acc: 0.6834, Val Loss: 0.7090, Val Acc: 0.7868\n",
      "Epoch 3/50, Train Loss: 0.6106, Train Acc: 0.8190, Val Loss: 0.4422, Val Acc: 0.8657\n",
      "Epoch 4/50, Train Loss: 0.4258, Train Acc: 0.8748, Val Loss: 0.3448, Val Acc: 0.8966\n",
      "Epoch 5/50, Train Loss: 0.3403, Train Acc: 0.8996, Val Loss: 0.2772, Val Acc: 0.9176\n",
      "Epoch 6/50, Train Loss: 0.2946, Train Acc: 0.9129, Val Loss: 0.2504, Val Acc: 0.9229\n",
      "Epoch 7/50, Train Loss: 0.2585, Train Acc: 0.9236, Val Loss: 0.2153, Val Acc: 0.9334\n",
      "Epoch 8/50, Train Loss: 0.2403, Train Acc: 0.9283, Val Loss: 0.2081, Val Acc: 0.9370\n",
      "Epoch 9/50, Train Loss: 0.2200, Train Acc: 0.9353, Val Loss: 0.2008, Val Acc: 0.9400\n",
      "Epoch 10/50, Train Loss: 0.2020, Train Acc: 0.9399, Val Loss: 0.1690, Val Acc: 0.9480\n",
      "Epoch 11/50, Train Loss: 0.1874, Train Acc: 0.9438, Val Loss: 0.1647, Val Acc: 0.9490\n",
      "Epoch 12/50, Train Loss: 0.1805, Train Acc: 0.9444, Val Loss: 0.1525, Val Acc: 0.9528\n",
      "Epoch 13/50, Train Loss: 0.1682, Train Acc: 0.9486, Val Loss: 0.1533, Val Acc: 0.9533\n",
      "Epoch 14/50, Train Loss: 0.1667, Train Acc: 0.9486, Val Loss: 0.1514, Val Acc: 0.9524\n",
      "Epoch 15/50, Train Loss: 0.1549, Train Acc: 0.9529, Val Loss: 0.1450, Val Acc: 0.9559\n",
      "Epoch 16/50, Train Loss: 0.1532, Train Acc: 0.9527, Val Loss: 0.1402, Val Acc: 0.9558\n",
      "Epoch 17/50, Train Loss: 0.1415, Train Acc: 0.9565, Val Loss: 0.1381, Val Acc: 0.9585\n",
      "Epoch 18/50, Train Loss: 0.1380, Train Acc: 0.9581, Val Loss: 0.1338, Val Acc: 0.9577\n",
      "Epoch 19/50, Train Loss: 0.1305, Train Acc: 0.9603, Val Loss: 0.1285, Val Acc: 0.9594\n",
      "Epoch 20/50, Train Loss: 0.1282, Train Acc: 0.9611, Val Loss: 0.1299, Val Acc: 0.9603\n",
      "Epoch 21/50, Train Loss: 0.1227, Train Acc: 0.9626, Val Loss: 0.1172, Val Acc: 0.9640\n",
      "Epoch 22/50, Train Loss: 0.1163, Train Acc: 0.9639, Val Loss: 0.1179, Val Acc: 0.9650\n",
      "Epoch 23/50, Train Loss: 0.1169, Train Acc: 0.9637, Val Loss: 0.1170, Val Acc: 0.9636\n",
      "Epoch 24/50, Train Loss: 0.1098, Train Acc: 0.9664, Val Loss: 0.1082, Val Acc: 0.9651\n",
      "Epoch 25/50, Train Loss: 0.1049, Train Acc: 0.9670, Val Loss: 0.1107, Val Acc: 0.9660\n",
      "Epoch 26/50, Train Loss: 0.1052, Train Acc: 0.9676, Val Loss: 0.1123, Val Acc: 0.9643\n",
      "Epoch 27/50, Train Loss: 0.1006, Train Acc: 0.9682, Val Loss: 0.1029, Val Acc: 0.9663\n",
      "Epoch 28/50, Train Loss: 0.0992, Train Acc: 0.9696, Val Loss: 0.0991, Val Acc: 0.9684\n",
      "Epoch 29/50, Train Loss: 0.0958, Train Acc: 0.9706, Val Loss: 0.1073, Val Acc: 0.9667\n",
      "Epoch 30/50, Train Loss: 0.0922, Train Acc: 0.9710, Val Loss: 0.1023, Val Acc: 0.9682\n",
      "Epoch 31/50, Train Loss: 0.0919, Train Acc: 0.9711, Val Loss: 0.0957, Val Acc: 0.9707\n",
      "Epoch 32/50, Train Loss: 0.0937, Train Acc: 0.9705, Val Loss: 0.1010, Val Acc: 0.9681\n",
      "Epoch 33/50, Train Loss: 0.0850, Train Acc: 0.9732, Val Loss: 0.0938, Val Acc: 0.9713\n",
      "Epoch 34/50, Train Loss: 0.0845, Train Acc: 0.9737, Val Loss: 0.0913, Val Acc: 0.9720\n",
      "Epoch 35/50, Train Loss: 0.0838, Train Acc: 0.9737, Val Loss: 0.0975, Val Acc: 0.9708\n",
      "Epoch 36/50, Train Loss: 0.0802, Train Acc: 0.9746, Val Loss: 0.0949, Val Acc: 0.9716\n",
      "Epoch 37/50, Train Loss: 0.0778, Train Acc: 0.9753, Val Loss: 0.0889, Val Acc: 0.9722\n",
      "Epoch 38/50, Train Loss: 0.0786, Train Acc: 0.9746, Val Loss: 0.0879, Val Acc: 0.9719\n",
      "Epoch 39/50, Train Loss: 0.0735, Train Acc: 0.9774, Val Loss: 0.0873, Val Acc: 0.9731\n",
      "Epoch 40/50, Train Loss: 0.0717, Train Acc: 0.9771, Val Loss: 0.0927, Val Acc: 0.9714\n",
      "Epoch 41/50, Train Loss: 0.0698, Train Acc: 0.9782, Val Loss: 0.0891, Val Acc: 0.9716\n",
      "Epoch 42/50, Train Loss: 0.0699, Train Acc: 0.9777, Val Loss: 0.0902, Val Acc: 0.9723\n",
      "Epoch 43/50, Train Loss: 0.0694, Train Acc: 0.9773, Val Loss: 0.0839, Val Acc: 0.9741\n",
      "Epoch 44/50, Train Loss: 0.0698, Train Acc: 0.9771, Val Loss: 0.0854, Val Acc: 0.9742\n",
      "Epoch 45/50, Train Loss: 0.0649, Train Acc: 0.9786, Val Loss: 0.0884, Val Acc: 0.9728\n",
      "Epoch 46/50, Train Loss: 0.0654, Train Acc: 0.9784, Val Loss: 0.0829, Val Acc: 0.9752\n",
      "Epoch 47/50, Train Loss: 0.0634, Train Acc: 0.9797, Val Loss: 0.0878, Val Acc: 0.9727\n",
      "Epoch 48/50, Train Loss: 0.0604, Train Acc: 0.9802, Val Loss: 0.0822, Val Acc: 0.9748\n",
      "Epoch 49/50, Train Loss: 0.0558, Train Acc: 0.9823, Val Loss: 0.0824, Val Acc: 0.9736\n",
      "Epoch 50/50, Train Loss: 0.0612, Train Acc: 0.9801, Val Loss: 0.1059, Val Acc: 0.9678\n"
     ]
    }
   ],
   "source": [
    "train_losses = []\n",
    "train_accs = []\n",
    "val_losses = []\n",
    "val_accs = []\n",
    "LOG_PATH = '../model'\n",
    "best_val_loss = np.inf\n",
    "for epoch in range(EPOCHS):\n",
    "    train_loss, train_acc = train(model, train_loader, optimizer, criterion, device)\n",
    "    val_loss, val_acc = evaluate(model, valid_loader, optimizer, criterion, device)\n",
    "    train_losses.append(train_loss)\n",
    "    train_accs.append(train_acc)\n",
    "    val_losses.append(val_loss)\n",
    "    val_accs.append(val_acc)\n",
    "    if val_loss < best_val_loss:\n",
    "        best_val_loss = val_loss\n",
    "        torch.save(model.state_dict(), os.path.join(LOG_PATH, 'best_model2.pt'))\n",
    "    print(f'Epoch {epoch+1}/{EPOCHS}, Train Loss: {train_loss:.4f}, Train Acc: {train_acc:.4f}, Val Loss: {val_loss:.4f}, Val Acc: {val_acc:.4f}')\n"
   ]
  },
  {
   "cell_type": "code",
   "execution_count": 197,
   "id": "49789342",
   "metadata": {},
   "outputs": [
    {
     "name": "stdout",
     "output_type": "stream",
     "text": [
      "Test Loss: 0.1275, Test Acc: 0.9631\n"
     ]
    }
   ],
   "source": [
    "# testing\n",
    "test_dataset.transform = test_transform\n",
    "test_loader = DataLoader(test_dataset, batch_size=BATCH_SIZE, shuffle=False)\n",
    "test_loss, test_acc = evaluate(model, test_loader, optimizer, criterion, device)\n",
    "print(f'Test Loss: {test_loss:.4f}, Test Acc: {test_acc:.4f}')\n"
   ]
  },
  {
   "cell_type": "code",
   "execution_count": 198,
   "id": "eb89057c",
   "metadata": {},
   "outputs": [
    {
     "name": "stdout",
     "output_type": "stream",
     "text": [
      "Epoch 1/50, Train Loss: 1.2648, Train Acc: 0.5873, Val Loss: 0.8598, Val Acc: 0.7027\n",
      "Epoch 2/50, Train Loss: 0.8564, Train Acc: 0.7058, Val Loss: 0.7358, Val Acc: 0.7456\n",
      "Epoch 3/50, Train Loss: 0.7645, Train Acc: 0.7370, Val Loss: 0.7316, Val Acc: 0.7483\n",
      "Epoch 4/50, Train Loss: 0.7126, Train Acc: 0.7545, Val Loss: 0.6425, Val Acc: 0.7824\n",
      "Epoch 5/50, Train Loss: 0.6671, Train Acc: 0.7727, Val Loss: 0.5973, Val Acc: 0.7973\n",
      "Epoch 6/50, Train Loss: 0.6319, Train Acc: 0.7849, Val Loss: 0.5604, Val Acc: 0.8063\n",
      "Epoch 7/50, Train Loss: 0.6128, Train Acc: 0.7917, Val Loss: 0.5391, Val Acc: 0.8147\n",
      "Epoch 8/50, Train Loss: 0.5848, Train Acc: 0.8020, Val Loss: 0.5044, Val Acc: 0.8257\n",
      "Epoch 9/50, Train Loss: 0.5630, Train Acc: 0.8107, Val Loss: 0.5170, Val Acc: 0.8208\n",
      "Epoch 10/50, Train Loss: 0.5587, Train Acc: 0.8102, Val Loss: 0.4815, Val Acc: 0.8297\n",
      "Epoch 11/50, Train Loss: 0.5274, Train Acc: 0.8203, Val Loss: 0.4742, Val Acc: 0.8363\n",
      "Epoch 12/50, Train Loss: 0.5169, Train Acc: 0.8255, Val Loss: 0.4531, Val Acc: 0.8465\n",
      "Epoch 13/50, Train Loss: 0.4970, Train Acc: 0.8317, Val Loss: 0.4329, Val Acc: 0.8509\n",
      "Epoch 14/50, Train Loss: 0.4930, Train Acc: 0.8327, Val Loss: 0.4579, Val Acc: 0.8436\n",
      "Epoch 15/50, Train Loss: 0.4877, Train Acc: 0.8364, Val Loss: 0.4285, Val Acc: 0.8570\n",
      "Epoch 16/50, Train Loss: 0.4764, Train Acc: 0.8390, Val Loss: 0.4119, Val Acc: 0.8627\n",
      "Epoch 17/50, Train Loss: 0.4560, Train Acc: 0.8454, Val Loss: 0.4275, Val Acc: 0.8582\n",
      "Epoch 18/50, Train Loss: 0.4620, Train Acc: 0.8456, Val Loss: 0.4068, Val Acc: 0.8622\n",
      "Epoch 19/50, Train Loss: 0.4476, Train Acc: 0.8499, Val Loss: 0.4033, Val Acc: 0.8653\n",
      "Epoch 20/50, Train Loss: 0.4337, Train Acc: 0.8539, Val Loss: 0.3759, Val Acc: 0.8707\n",
      "Epoch 21/50, Train Loss: 0.4203, Train Acc: 0.8585, Val Loss: 0.3675, Val Acc: 0.8751\n",
      "Epoch 22/50, Train Loss: 0.4154, Train Acc: 0.8605, Val Loss: 0.3612, Val Acc: 0.8768\n",
      "Epoch 23/50, Train Loss: 0.4100, Train Acc: 0.8626, Val Loss: 0.3505, Val Acc: 0.8827\n",
      "Epoch 24/50, Train Loss: 0.4077, Train Acc: 0.8653, Val Loss: 0.3339, Val Acc: 0.8876\n",
      "Epoch 25/50, Train Loss: 0.4091, Train Acc: 0.8613, Val Loss: 0.3514, Val Acc: 0.8761\n",
      "Epoch 26/50, Train Loss: 0.4027, Train Acc: 0.8642, Val Loss: 0.3492, Val Acc: 0.8828\n",
      "Epoch 27/50, Train Loss: 0.3899, Train Acc: 0.8687, Val Loss: 0.3239, Val Acc: 0.8893\n",
      "Epoch 28/50, Train Loss: 0.3852, Train Acc: 0.8709, Val Loss: 0.3341, Val Acc: 0.8843\n",
      "Epoch 29/50, Train Loss: 0.3792, Train Acc: 0.8757, Val Loss: 0.3275, Val Acc: 0.8918\n",
      "Epoch 30/50, Train Loss: 0.3686, Train Acc: 0.8753, Val Loss: 0.3354, Val Acc: 0.8896\n",
      "Epoch 31/50, Train Loss: 0.3725, Train Acc: 0.8766, Val Loss: 0.3694, Val Acc: 0.8716\n",
      "Epoch 32/50, Train Loss: 0.3681, Train Acc: 0.8766, Val Loss: 0.3096, Val Acc: 0.8932\n",
      "Epoch 33/50, Train Loss: 0.3609, Train Acc: 0.8784, Val Loss: 0.3152, Val Acc: 0.8923\n",
      "Epoch 34/50, Train Loss: 0.3625, Train Acc: 0.8784, Val Loss: 0.2948, Val Acc: 0.9010\n",
      "Epoch 35/50, Train Loss: 0.3509, Train Acc: 0.8837, Val Loss: 0.3139, Val Acc: 0.8962\n",
      "Epoch 36/50, Train Loss: 0.3583, Train Acc: 0.8796, Val Loss: 0.2999, Val Acc: 0.8981\n",
      "Epoch 37/50, Train Loss: 0.3454, Train Acc: 0.8849, Val Loss: 0.2814, Val Acc: 0.9034\n",
      "Epoch 38/50, Train Loss: 0.3363, Train Acc: 0.8885, Val Loss: 0.2888, Val Acc: 0.8985\n",
      "Epoch 39/50, Train Loss: 0.3312, Train Acc: 0.8899, Val Loss: 0.3011, Val Acc: 0.9008\n",
      "Epoch 40/50, Train Loss: 0.3319, Train Acc: 0.8889, Val Loss: 0.2874, Val Acc: 0.9048\n",
      "Epoch 41/50, Train Loss: 0.3297, Train Acc: 0.8903, Val Loss: 0.2730, Val Acc: 0.9078\n",
      "Epoch 42/50, Train Loss: 0.3321, Train Acc: 0.8891, Val Loss: 0.2846, Val Acc: 0.9048\n",
      "Epoch 43/50, Train Loss: 0.3239, Train Acc: 0.8930, Val Loss: 0.2745, Val Acc: 0.9061\n",
      "Epoch 44/50, Train Loss: 0.3200, Train Acc: 0.8928, Val Loss: 0.2631, Val Acc: 0.9103\n",
      "Epoch 45/50, Train Loss: 0.3167, Train Acc: 0.8957, Val Loss: 0.2735, Val Acc: 0.9068\n",
      "Epoch 46/50, Train Loss: 0.3156, Train Acc: 0.8944, Val Loss: 0.2782, Val Acc: 0.9045\n",
      "Epoch 47/50, Train Loss: 0.3159, Train Acc: 0.8957, Val Loss: 0.2819, Val Acc: 0.9021\n",
      "Epoch 48/50, Train Loss: 0.3029, Train Acc: 0.8995, Val Loss: 0.2577, Val Acc: 0.9143\n",
      "Epoch 49/50, Train Loss: 0.3048, Train Acc: 0.8973, Val Loss: 0.2853, Val Acc: 0.9006\n",
      "Epoch 50/50, Train Loss: 0.3038, Train Acc: 0.8981, Val Loss: 0.2638, Val Acc: 0.9133\n"
     ]
    }
   ],
   "source": [
    "enhance_transform = transforms.Compose([\n",
    "    transforms.RandomRotation(5),\n",
    "    transforms.RandomAffine(0, translate=(0.1, 0.1)),\n",
    "    transforms.RandomHorizontalFlip(),\n",
    "    transforms.RandomResizedCrop(28, scale=(0.8, 1.0)),\n",
    "    transforms.ColorJitter(brightness=0.2, contrast=0.2, saturation=0.2, hue=0.2),\n",
    "    transforms.ToTensor(),\n",
    "    transforms.Normalize((mean,), (std,))\n",
    "])\n",
    "train_data.dataset.transform = enhance_transform\n",
    "best_val_loss = np.inf\n",
    "train_loader = DataLoader(train_dataset, batch_size=BATCH_SIZE, shuffle=True)\n",
    "valid_loader = DataLoader(valid_data, batch_size=BATCH_SIZE, shuffle=False)\n",
    "for epoch in range(EPOCHS):\n",
    "    train_loss, train_acc = train(model, train_loader, optimizer, criterion, device)\n",
    "    val_loss, val_acc = evaluate(model, valid_loader, optimizer, criterion, device)\n",
    "    train_losses.append(train_loss)\n",
    "    train_accs.append(train_acc)\n",
    "    val_losses.append(val_loss)\n",
    "    val_accs.append(val_acc)\n",
    "    if val_loss < best_val_loss:\n",
    "        best_val_loss = val_loss\n",
    "        torch.save(model.state_dict(), os.path.join(LOG_PATH, 'model_withnoise.pt'))\n",
    "    print(f'Epoch {epoch+1}/{EPOCHS}, Train Loss: {train_loss:.4f}, Train Acc: {train_acc:.4f}, Val Loss: {val_loss:.4f}, Val Acc: {val_acc:.4f}')"
   ]
  },
  {
   "cell_type": "code",
   "execution_count": 121,
   "id": "c15c7fd6",
   "metadata": {},
   "outputs": [],
   "source": [
    "torch.save(model.state_dict(), os.path.join(LOG_PATH, 'model_with_noisedata.pt'))"
   ]
  },
  {
   "cell_type": "code",
   "execution_count": 123,
   "id": "d1e078d4",
   "metadata": {},
   "outputs": [
    {
     "name": "stdout",
     "output_type": "stream",
     "text": [
      "Test Loss: 0.3663, Test Acc: 0.8765\n"
     ]
    }
   ],
   "source": [
    "test_dataset.transform = test_transform\n",
    "test_loader = DataLoader(test_dataset, batch_size=BATCH_SIZE, shuffle=False) \n",
    "test_loss, test_acc = evaluate(model, test_loader, optimizer, criterion, device)\n",
    "print(f'Test Loss: {test_loss:.4f}, Test Acc: {test_acc:.4f}')"
   ]
  },
  {
   "cell_type": "code",
   "execution_count": 132,
   "id": "2bc4e427",
   "metadata": {},
   "outputs": [
    {
     "name": "stderr",
     "output_type": "stream",
     "text": [
      "C:\\Users\\PC\\AppData\\Local\\Temp\\ipykernel_11104\\687143408.py:2: FutureWarning: You are using `torch.load` with `weights_only=False` (the current default value), which uses the default pickle module implicitly. It is possible to construct malicious pickle data which will execute arbitrary code during unpickling (See https://github.com/pytorch/pytorch/blob/main/SECURITY.md#untrusted-models for more details). In a future release, the default value for `weights_only` will be flipped to `True`. This limits the functions that could be executed during unpickling. Arbitrary objects will no longer be allowed to be loaded via this mode unless they are explicitly allowlisted by the user via `torch.serialization.add_safe_globals`. We recommend you start setting `weights_only=True` for any use case where you don't have full control of the loaded file. Please open an issue on GitHub for any issues related to this experimental feature.\n",
      "  model1.load_state_dict(torch.load(os.path.join(LOG_PATH, 'best_model.pt')))\n"
     ]
    },
    {
     "name": "stdout",
     "output_type": "stream",
     "text": [
      "Test Loss: 0.1610, Test Acc: 0.9547\n"
     ]
    }
   ],
   "source": [
    "model1 = ViT(embed_dim=512, num_heads=4, num_layers=4, ff_dim = 1024, num_classes=NUM_CLASSES, patch_size=7, drop_out=0.1, img_size=28)\n",
    "model1.load_state_dict(torch.load(os.path.join(LOG_PATH, 'best_model.pt')))\n",
    "model1 = model1.to(device)\n",
    "test_loss, test_acc = evaluate(model1, test_loader, optimizer, criterion, device)\n",
    "print(f'Test Loss: {test_loss:.4f}, Test Acc: {test_acc:.4f}')"
   ]
  },
  {
   "cell_type": "code",
   "execution_count": 133,
   "id": "93667157",
   "metadata": {},
   "outputs": [
    {
     "name": "stdout",
     "output_type": "stream",
     "text": [
      "Test Loss: 4.7081, Test Acc: 0.2876\n"
     ]
    }
   ],
   "source": [
    "test_dataset.transform = enhance_transform\n",
    "test_loader = DataLoader(test_dataset, batch_size=BATCH_SIZE, shuffle=False)\n",
    "test_loss, test_acc = evaluate(model1, test_loader, optimizer, criterion, device)\n",
    "print(f'Test Loss: {test_loss:.4f}, Test Acc: {test_acc:.4f}')"
   ]
  },
  {
   "cell_type": "code",
   "execution_count": 135,
   "id": "5720df5f",
   "metadata": {},
   "outputs": [
    {
     "name": "stderr",
     "output_type": "stream",
     "text": [
      "C:\\Users\\PC\\AppData\\Local\\Temp\\ipykernel_11104\\1008609239.py:1: FutureWarning: You are using `torch.load` with `weights_only=False` (the current default value), which uses the default pickle module implicitly. It is possible to construct malicious pickle data which will execute arbitrary code during unpickling (See https://github.com/pytorch/pytorch/blob/main/SECURITY.md#untrusted-models for more details). In a future release, the default value for `weights_only` will be flipped to `True`. This limits the functions that could be executed during unpickling. Arbitrary objects will no longer be allowed to be loaded via this mode unless they are explicitly allowlisted by the user via `torch.serialization.add_safe_globals`. We recommend you start setting `weights_only=True` for any use case where you don't have full control of the loaded file. Please open an issue on GitHub for any issues related to this experimental feature.\n",
      "  model1.load_state_dict(torch.load(os.path.join(LOG_PATH, 'model_with_noisedata.pt')))\n"
     ]
    },
    {
     "name": "stdout",
     "output_type": "stream",
     "text": [
      "Test Loss: 0.4529, Test Acc: 0.8458\n"
     ]
    }
   ],
   "source": [
    "model1.load_state_dict(torch.load(os.path.join(LOG_PATH, 'model_with_noisedata.pt')))\n",
    "model1 = model1.to(device)\n",
    "test_loss, test_acc = evaluate(model1, test_loader, optimizer, criterion, device)\n",
    "print(f'Test Loss: {test_loss:.4f}, Test Acc: {test_acc:.4f}')"
   ]
  },
  {
   "cell_type": "code",
   "execution_count": 138,
   "id": "8765b716",
   "metadata": {},
   "outputs": [
    {
     "data": {
      "image/png": "[encoded data removed]",
      "text/plain": [
       "<Figure size 640x480 with 6 Axes>"
      ]
     },
     "metadata": {},
     "output_type": "display_data"
    }
   ],
   "source": [
    "import matplotlib.pyplot as plt\n",
    "import torchvision.transforms.functional as F\n",
    "os.environ[\"KMP_DUPLICATE_LIB_OK\"] = \"TRUE\"\n",
    "# Get one batch from the test_loader\n",
    "images, labels = next(iter(test_loader))\n",
    "\n",
    "# Plot some of them\n",
    "for i in range(6):  # Show 6 samples\n",
    "    img = images[i]\n",
    "    img = img * std + mean  # de-normalize\n",
    "    \n",
    "    img = img.squeeze(0) if img.shape[0] == 1 else img  # remove channel dim if grayscale\n",
    "    \n",
    "    plt.subplot(2, 3, i + 1)\n",
    "    plt.imshow(img.numpy(), cmap='gray')\n",
    "    plt.title(f\"Label: {labels[i].item()}\")\n",
    "    plt.axis('off')\n",
    "\n",
    "plt.tight_layout()\n",
    "plt.show()"
   ]
  },
  {
   "cell_type": "code",
   "execution_count": 144,
   "id": "9b367731",
   "metadata": {},
   "outputs": [
    {
     "name": "stderr",
     "output_type": "stream",
     "text": [
      "C:\\Users\\PC\\AppData\\Local\\Temp\\ipykernel_11104\\2482364135.py:1: FutureWarning: You are using `torch.load` with `weights_only=False` (the current default value), which uses the default pickle module implicitly. It is possible to construct malicious pickle data which will execute arbitrary code during unpickling (See https://github.com/pytorch/pytorch/blob/main/SECURITY.md#untrusted-models for more details). In a future release, the default value for `weights_only` will be flipped to `True`. This limits the functions that could be executed during unpickling. Arbitrary objects will no longer be allowed to be loaded via this mode unless they are explicitly allowlisted by the user via `torch.serialization.add_safe_globals`. We recommend you start setting `weights_only=True` for any use case where you don't have full control of the loaded file. Please open an issue on GitHub for any issues related to this experimental feature.\n",
      "  model.load_state_dict(torch.load(os.path.join(LOG_PATH, 'best_model.pt')))\n"
     ]
    },
    {
     "data": {
      "text/plain": [
       "ViT(\n",
       "  (patch_embedding): PatchPositionEmbedding(\n",
       "    (conv1): Conv2d(1, 512, kernel_size=(7, 7), stride=(7, 7), bias=False)\n",
       "  )\n",
       "  (transformer_encoder): TransfomerEncoder(\n",
       "    (attn): MultiheadAttention(\n",
       "      (out_proj): NonDynamicallyQuantizableLinear(in_features=512, out_features=512, bias=True)\n",
       "    )\n",
       "    (ff): Sequential(\n",
       "      (0): Linear(in_features=512, out_features=1024, bias=True)\n",
       "      (1): ReLU()\n",
       "      (2): Linear(in_features=1024, out_features=512, bias=True)\n",
       "    )\n",
       "    (norm1): LayerNorm((512,), eps=1e-06, elementwise_affine=True)\n",
       "    (norm2): LayerNorm((512,), eps=1e-06, elementwise_affine=True)\n",
       "    (dropout1): Dropout(p=0.1, inplace=False)\n",
       "    (dropout2): Dropout(p=0.1, inplace=False)\n",
       "  )\n",
       "  (fc1): Linear(in_features=512, out_features=512, bias=True)\n",
       "  (fc2): Linear(in_features=512, out_features=10, bias=True)\n",
       "  (dropout): Dropout(p=0.1, inplace=False)\n",
       ")"
      ]
     },
     "execution_count": 144,
     "metadata": {},
     "output_type": "execute_result"
    }
   ],
   "source": [
    "model.load_state_dict(torch.load(os.path.join(LOG_PATH, 'best_model.pt')))\n",
    "model = model.to(device)\n",
    "samples = next(iter(test_loader))\n",
    "img, label = samples[0], samples[1]\n",
    "model"
   ]
  },
  {
   "cell_type": "code",
   "execution_count": 147,
   "id": "12ff2546",
   "metadata": {},
   "outputs": [
    {
     "name": "stdout",
     "output_type": "stream",
     "text": [
      "tensor([7, 3, 1, 7, 1, 1, 1, 3, 5, 7, 3, 3, 5, 8, 1, 3, 3, 1, 3, 5, 7, 1, 1, 3,\n",
      "        7, 0, 1, 7, 7, 1, 5, 1, 5, 1, 5, 3, 1, 1, 3, 1, 1, 7, 1, 2, 1, 5, 1, 5,\n",
      "        5, 4, 3, 5, 1, 3, 7, 4, 1, 1, 7, 3, 3, 3, 3, 3, 3, 1, 4, 1, 3, 3, 3, 0,\n",
      "        2, 1, 1, 5, 5, 5, 7, 7, 7, 6, 2, 7, 8, 1, 3, 5, 7, 1, 7, 1, 3, 1, 1, 8,\n",
      "        1, 2, 2, 8, 3, 5, 3, 1, 3, 3, 2, 1, 3, 3, 8, 7, 3, 1, 3, 1, 1, 7, 3, 5,\n",
      "        2, 1, 1, 1, 3, 5, 3, 3, 8, 3, 2, 1, 5, 2, 3, 1, 1, 1, 5, 1, 3, 7, 5, 1,\n",
      "        3, 1, 7, 5, 1, 3, 3, 3, 3, 2, 1, 5, 1, 4, 3, 1, 1, 3, 3, 7, 1, 3, 2, 3,\n",
      "        1, 1, 1, 3, 2, 3, 2, 3, 1, 1, 1, 3, 1, 3, 3, 7, 2, 2, 5, 3, 7, 1, 1, 1,\n",
      "        3, 3, 0, 3, 1, 2, 1, 2, 5, 3, 1, 1, 1, 5, 1, 3, 3, 7, 1, 5, 6, 5, 9, 1,\n",
      "        3, 5, 3, 3, 7, 7, 8, 7, 1, 3, 1, 1, 1, 5, 3, 3, 3, 8, 3, 7, 3, 3, 1, 1,\n",
      "        3, 5, 3, 3, 1, 3, 3, 1, 7, 5, 8, 1, 8, 5, 5, 1, 2, 1, 2, 5, 8, 7, 3, 1,\n",
      "        1, 1, 8, 1, 3, 5, 3, 7, 1, 8, 8, 4, 1, 8, 3, 1, 3, 8, 1, 3, 3, 5, 1, 7,\n",
      "        1, 3, 8, 3, 1, 3, 1, 1, 0, 3, 3, 8, 3, 3, 1, 3, 1, 2, 3, 7, 1, 3, 5, 0,\n",
      "        8, 5, 1, 5, 3, 5, 5, 5, 3, 3, 1, 3, 1, 3, 5, 3, 7, 1, 1, 7, 1, 3, 3, 5,\n",
      "        7, 1, 3, 3, 1, 1, 1, 3, 8, 1, 7, 3, 1, 1, 1, 3, 3, 5, 1, 3, 3, 1, 7, 3,\n",
      "        3, 7, 1, 3, 3, 1, 2, 2, 1, 3, 3, 7, 7, 8, 8, 5, 4, 1, 1, 1, 3, 5, 6, 7,\n",
      "        2, 1, 8, 3, 1, 1, 2, 8, 1, 1, 3, 3, 3, 3, 1, 1, 3, 8, 3, 3, 3, 4, 7, 7,\n",
      "        2, 1, 7, 3, 3, 7, 1, 7, 1, 1, 2, 1, 3, 3, 3, 2, 7, 7, 7, 1, 1, 3, 1, 3,\n",
      "        1, 5, 9, 1, 1, 5, 5, 5, 0, 7, 5, 1, 5, 5, 2, 5, 3, 5, 3, 3, 1, 2, 3, 1,\n",
      "        3, 3, 8, 1, 3, 1, 5, 5, 3, 2, 2, 3, 3, 3, 3, 7, 0, 1, 8, 7, 1, 3, 3, 8,\n",
      "        1, 9, 7, 5, 4, 5, 8, 5, 3, 1, 1, 3, 3, 5, 5, 2, 1, 1, 4, 3, 5, 8, 3, 5,\n",
      "        1, 7, 1, 5, 3, 3, 5, 1], device='cuda:0')\n",
      "tensor([7, 2, 1, 0, 4, 1, 4, 9, 5, 9, 0, 6, 9, 0, 1, 5, 9, 7, 3, 4, 9, 6, 6, 5,\n",
      "        4, 0, 7, 4, 0, 1, 3, 1, 3, 4, 7, 2, 7, 1, 2, 1, 1, 7, 4, 2, 3, 5, 1, 2,\n",
      "        4, 4, 6, 3, 5, 5, 6, 0, 4, 1, 9, 5, 7, 8, 9, 3, 7, 4, 6, 4, 3, 0, 7, 0,\n",
      "        2, 9, 1, 7, 3, 2, 9, 7, 7, 6, 2, 7, 8, 4, 7, 3, 6, 1, 3, 6, 9, 3, 1, 4,\n",
      "        1, 7, 6, 9, 6, 0, 5, 4, 9, 9, 2, 1, 9, 4, 8, 7, 3, 9, 7, 4, 4, 4, 9, 2,\n",
      "        5, 4, 7, 6, 7, 9, 0, 5, 8, 5, 6, 6, 5, 7, 8, 1, 0, 1, 6, 4, 6, 7, 3, 1,\n",
      "        7, 1, 8, 2, 0, 2, 9, 9, 5, 5, 1, 5, 6, 0, 3, 4, 4, 6, 5, 4, 6, 5, 4, 5,\n",
      "        1, 4, 4, 7, 2, 3, 2, 7, 1, 8, 1, 8, 1, 8, 5, 0, 8, 9, 2, 5, 0, 1, 1, 1,\n",
      "        0, 9, 0, 3, 1, 6, 4, 2, 3, 6, 1, 1, 1, 3, 9, 5, 2, 9, 4, 5, 9, 3, 9, 0,\n",
      "        3, 6, 5, 5, 7, 2, 2, 7, 1, 2, 8, 4, 1, 7, 3, 3, 8, 8, 7, 9, 2, 2, 4, 1,\n",
      "        5, 9, 8, 7, 2, 3, 0, 4, 4, 2, 4, 1, 9, 5, 7, 7, 2, 8, 2, 6, 8, 5, 7, 7,\n",
      "        9, 1, 8, 1, 8, 0, 3, 0, 1, 9, 9, 4, 1, 8, 2, 1, 2, 9, 7, 5, 9, 2, 6, 4,\n",
      "        1, 5, 8, 2, 9, 2, 0, 4, 0, 0, 2, 8, 4, 7, 1, 2, 4, 0, 2, 7, 4, 3, 3, 0,\n",
      "        0, 3, 1, 9, 6, 5, 2, 5, 9, 2, 9, 3, 0, 4, 2, 0, 7, 1, 1, 2, 1, 5, 3, 3,\n",
      "        9, 7, 8, 6, 5, 6, 1, 3, 8, 1, 0, 5, 1, 3, 1, 5, 5, 6, 1, 8, 5, 1, 7, 9,\n",
      "        4, 6, 2, 2, 5, 0, 6, 5, 6, 3, 7, 2, 0, 8, 8, 5, 4, 1, 1, 4, 0, 3, 3, 7,\n",
      "        6, 1, 6, 2, 1, 9, 2, 8, 6, 1, 9, 5, 2, 5, 4, 4, 2, 8, 3, 8, 2, 4, 5, 0,\n",
      "        3, 1, 7, 7, 5, 7, 9, 7, 1, 9, 2, 1, 4, 2, 9, 2, 0, 4, 9, 1, 4, 8, 1, 8,\n",
      "        4, 5, 9, 8, 8, 3, 7, 6, 0, 0, 3, 0, 2, 6, 6, 4, 9, 3, 3, 3, 2, 3, 9, 1,\n",
      "        2, 6, 8, 0, 5, 6, 6, 6, 3, 8, 8, 2, 7, 5, 8, 9, 6, 1, 8, 4, 1, 2, 5, 9,\n",
      "        1, 9, 7, 5, 4, 0, 8, 9, 9, 1, 0, 5, 2, 3, 7, 8, 9, 4, 0, 6, 3, 9, 5, 2,\n",
      "        1, 3, 1, 3, 6, 5, 7, 4])\n"
     ]
    }
   ],
   "source": [
    "with torch.no_grad():\n",
    "    img = img.to(device)\n",
    "    output = model(img)\n",
    "    _, predicted = torch.max(output.data, 1)\n",
    "    print(predicted)\n",
    "    print(label)"
   ]
  },
  {
   "cell_type": "code",
   "execution_count": 24,
   "id": "c08ea4ea",
   "metadata": {},
   "outputs": [
    {
     "data": {
      "image/png": "[encoded data removed]",
      "text/plain": [
       "<Figure size 640x480 with 1 Axes>"
      ]
     },
     "metadata": {},
     "output_type": "display_data"
    }
   ],
   "source": [
    "os.environ[\"KMP_DUPLICATE_LIB_OK\"] = \"TRUE\"\n",
    "sample = train_dataset[0][0]  # a tensor\n",
    "plt.imshow(sample.squeeze(), cmap='gray')\n",
    "plt.show()"
   ]
  }
 ],
 "metadata": {
  "kernelspec": {
   "display_name": "base",
   "language": "python",
   "name": "python3"
  },
  "language_info": {
   "codemirror_mode": {
    "name": "ipython",
    "version": 3
   },
   "file_extension": ".py",
   "mimetype": "text/x-python",
   "name": "python",
   "nbconvert_exporter": "python",
   "pygments_lexer": "ipython3",
   "version": "3.12.7"
  }
 },
 "nbformat": 4,
 "nbformat_minor": 5
}
